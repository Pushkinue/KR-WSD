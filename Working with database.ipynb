{
 "cells": [
  {
   "cell_type": "code",
   "execution_count": 1,
   "metadata": {
    "collapsed": true
   },
   "outputs": [],
   "source": [
    "import sqlite3\n",
    "\n",
    "database_path = 'Data//corpus_base.db'\n",
    "\n",
    "conn = sqlite3.connect(database_path)\n",
    "\n",
    "# Создаем курсор - это специальный объект который делает запросы и получает их результаты\n",
    "cursor = conn.cursor()"
   ]
  },
  {
   "cell_type": "markdown",
   "metadata": {},
   "source": [
    "## Создание базы"
   ]
  },
  {
   "cell_type": "code",
   "execution_count": 2,
   "metadata": {},
   "outputs": [
    {
     "data": {
      "text/plain": [
       "<sqlite3.Cursor at 0x1b6f950c340>"
      ]
     },
     "execution_count": 2,
     "metadata": {},
     "output_type": "execute_result"
    }
   ],
   "source": [
    "cursor.execute('CREATE TABLE Sentences (id INTEGER PRIMARY KEY, sentenceText TEXT)')\n",
    "cursor.execute('CREATE TABLE Words (word VARCHAR(50) PRIMARY KEY, mentions TEXT)')"
   ]
  },
  {
   "cell_type": "markdown",
   "metadata": {},
   "source": [
    "## Заполнение базы"
   ]
  },
  {
   "cell_type": "markdown",
   "metadata": {},
   "source": [
    "**Примечание**: Если к базе установлено несколько соединений и одно из них осуществляет модификацю базы, то база SQLite залочивается до завершения (метод соединения **.commit()**) или отмены (метод соединения **.rollback()**) транзакции."
   ]
  },
  {
   "cell_type": "code",
   "execution_count": 3,
   "metadata": {},
   "outputs": [
    {
     "name": "stdout",
     "output_type": "stream",
     "text": [
      "197816\n"
     ]
    }
   ],
   "source": [
    "sentencesList = list()\n",
    "inputFile = 'Data//corpus.txt'\n",
    "file_obj = open(inputFile, 'r', encoding=\"utf8\")\n",
    "for line in file_obj:\n",
    "    sentencesList.append(line)\n",
    "file_obj.close()\n",
    "print(len(sentencesList))"
   ]
  },
  {
   "cell_type": "code",
   "execution_count": 4,
   "metadata": {
    "collapsed": true
   },
   "outputs": [],
   "source": [
    "for index, sentence in enumerate(sentencesList):\n",
    "    cursor.execute(\"INSERT into Sentences values(:index, :sentence)\", {\"index\": index + 1, \"sentence\": sentence})\n",
    "\n",
    "# Если мы не просто читаем, но и вносим изменения в базу данных - необходимо сохранить транзакцию\n",
    "conn.commit()"
   ]
  },
  {
   "cell_type": "code",
   "execution_count": 5,
   "metadata": {
    "collapsed": true
   },
   "outputs": [],
   "source": [
    "wordsDict = dict()\n",
    "for index, sentence in enumerate(sentencesList):\n",
    "    words = sentence.split(' ')[1:]\n",
    "    words = words[:-1]\n",
    "    for word in words:\n",
    "        if word not in wordsDict:\n",
    "            wordsDict[word] = list()\n",
    "        wordsDict[word].append(str(index + 1))"
   ]
  },
  {
   "cell_type": "code",
   "execution_count": 8,
   "metadata": {
    "collapsed": true
   },
   "outputs": [],
   "source": [
    "for word in wordsDict:\n",
    "    cursor.execute(\"INSERT into Words values(:word, :mentions)\", {\"word\": word, \"mentions\": ' '.join(wordsDict[word])})\n",
    "conn.commit()"
   ]
  },
  {
   "cell_type": "markdown",
   "metadata": {},
   "source": [
    "## Чтение из базы"
   ]
  },
  {
   "cell_type": "code",
   "execution_count": 6,
   "metadata": {},
   "outputs": [
    {
     "name": "stdout",
     "output_type": "stream",
     "text": [
      "ERROR горн\n"
     ]
    }
   ],
   "source": [
    "trainList = ['балка',\n",
    "             'вид',\n",
    "             'винт',\n",
    "             'горн',\n",
    "             'губа',\n",
    "             'жаба',\n",
    "             'клетка',\n",
    "             'крыло',\n",
    "             'купюра', \n",
    "             'курица', \n",
    "             'лавка', \n",
    "             'лайка', \n",
    "             'лев', \n",
    "             'лира', \n",
    "             'мина', \n",
    "             'мишень', \n",
    "             'обед', \n",
    "             'оклад', \n",
    "             'опушка', \n",
    "             'полис', \n",
    "             'пост', \n",
    "             'поток', \n",
    "             'проказа', \n",
    "             'пропасть', \n",
    "             'проспект', \n",
    "             'пытка',\n",
    "             'рысь',\n",
    "             'среда',\n",
    "             'хвост',\n",
    "             'штамп',\n",
    "            ]\n",
    "#trainDict = dict()\n",
    "\n",
    "for trainWord in trainList:\n",
    "    sentencesList = list()\n",
    "    # Делаем SELECT запрос к базе данных, используя обычный SQL-синтаксис\n",
    "    cursor.execute(\"SELECT word, mentions FROM words WHERE word = :word\", {\"word\": trainWord})\n",
    "\n",
    "    # Получаем результат сделанного запроса\n",
    "    result = cursor.fetchall()\n",
    "    try:\n",
    "        wordTuple = result[0]\n",
    "    except:\n",
    "        print('ERROR', trainWord)\n",
    "        continue\n",
    "    word = wordTuple[0]\n",
    "    mentions = wordTuple[1].split(' ')\n",
    "    mentions = [int(x) for x in mentions]\n",
    "    #trainDict[word] = mentions\n",
    "    \n",
    "    for mention in mentions:\n",
    "        cursor.execute(\"SELECT id, sentenceText FROM Sentences WHERE id = :mention\", {\"mention\": mention})\n",
    "        sentenceTuple = cursor.fetchall()[0]\n",
    "        sentenceId = sentenceTuple[0]\n",
    "        sentenceText = sentenceTuple[1]\n",
    "        sentencesList.append('\\t' + sentenceText)\n",
    "    \n",
    "    outputFile = 'Trainset//bts-rnc//' + trainWord + '.txt'\n",
    "    file_obj = open(outputFile, 'w', encoding=\"utf8\")\n",
    "    file_obj.writelines(sentencesList)\n",
    "    file_obj.close()"
   ]
  },
  {
   "cell_type": "code",
   "execution_count": 10,
   "metadata": {},
   "outputs": [
    {
     "data": {
      "text/plain": [
       "[528,\n",
       " 563,\n",
       " 1370,\n",
       " 1378,\n",
       " 1400,\n",
       " 1416,\n",
       " 9421,\n",
       " 11546,\n",
       " 23599,\n",
       " 24093,\n",
       " 24095,\n",
       " 41813,\n",
       " 42298,\n",
       " 43843,\n",
       " 44441,\n",
       " 44508,\n",
       " 44601,\n",
       " 44733,\n",
       " 48079,\n",
       " 49530,\n",
       " 51247,\n",
       " 51248,\n",
       " 51249,\n",
       " 51251,\n",
       " 51266,\n",
       " 51267,\n",
       " 52570,\n",
       " 53537,\n",
       " 53598,\n",
       " 54799,\n",
       " 54801,\n",
       " 54803,\n",
       " 54804,\n",
       " 54805,\n",
       " 54807,\n",
       " 54808,\n",
       " 54809,\n",
       " 55980,\n",
       " 55981,\n",
       " 55982,\n",
       " 55983,\n",
       " 55984,\n",
       " 55986,\n",
       " 55988,\n",
       " 55991,\n",
       " 56022,\n",
       " 56022,\n",
       " 57042,\n",
       " 58962,\n",
       " 58963,\n",
       " 59489,\n",
       " 59491,\n",
       " 59492,\n",
       " 59493,\n",
       " 63182,\n",
       " 63611,\n",
       " 70763,\n",
       " 70829,\n",
       " 74612,\n",
       " 82136,\n",
       " 82143,\n",
       " 89369,\n",
       " 91696,\n",
       " 94719,\n",
       " 99857,\n",
       " 102287,\n",
       " 109718,\n",
       " 112492,\n",
       " 112703,\n",
       " 113267,\n",
       " 116671,\n",
       " 117323,\n",
       " 117623,\n",
       " 121174,\n",
       " 121186,\n",
       " 125670,\n",
       " 126322,\n",
       " 126622,\n",
       " 130173,\n",
       " 130185,\n",
       " 132388,\n",
       " 134108,\n",
       " 137921,\n",
       " 138349,\n",
       " 139452,\n",
       " 139609,\n",
       " 140427,\n",
       " 141697,\n",
       " 143374,\n",
       " 149161,\n",
       " 149860,\n",
       " 150929,\n",
       " 151857,\n",
       " 154392,\n",
       " 157419,\n",
       " 160751,\n",
       " 162726,\n",
       " 164649,\n",
       " 164975,\n",
       " 172316,\n",
       " 175976,\n",
       " 179325,\n",
       " 180045,\n",
       " 181718,\n",
       " 182103,\n",
       " 182104,\n",
       " 185220,\n",
       " 185519,\n",
       " 189041,\n",
       " 189633,\n",
       " 190262,\n",
       " 190262,\n",
       " 190263,\n",
       " 191766,\n",
       " 191780,\n",
       " 192313]"
      ]
     },
     "execution_count": 10,
     "metadata": {},
     "output_type": "execute_result"
    }
   ],
   "source": [
    "trainDict['замок']"
   ]
  },
  {
   "cell_type": "code",
   "execution_count": 8,
   "metadata": {
    "collapsed": true
   },
   "outputs": [],
   "source": [
    "# Не забываем закрыть соединение с базой данных\n",
    "conn.close()"
   ]
  }
 ],
 "metadata": {
  "kernelspec": {
   "display_name": "Python 3",
   "language": "python",
   "name": "python3"
  },
  "language_info": {
   "codemirror_mode": {
    "name": "ipython",
    "version": 3
   },
   "file_extension": ".py",
   "mimetype": "text/x-python",
   "name": "python",
   "nbconvert_exporter": "python",
   "pygments_lexer": "ipython3",
   "version": "3.6.1"
  }
 },
 "nbformat": 4,
 "nbformat_minor": 2
}
